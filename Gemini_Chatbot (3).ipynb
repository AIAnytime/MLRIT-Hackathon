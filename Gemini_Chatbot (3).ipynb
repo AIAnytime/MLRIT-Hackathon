{
  "nbformat": 4,
  "nbformat_minor": 0,
  "metadata": {
    "colab": {
      "provenance": []
    },
    "kernelspec": {
      "name": "python3",
      "display_name": "Python 3"
    },
    "language_info": {
      "name": "python"
    }
  },
  "cells": [
    {
      "cell_type": "markdown",
      "source": [
        "## How to call an LLM"
      ],
      "metadata": {
        "id": "39InV7tkYkYr"
      }
    },
    {
      "cell_type": "code",
      "execution_count": 1,
      "metadata": {
        "id": "Sows5UzPSQFe",
        "colab": {
          "base_uri": "https://localhost:8080/"
        },
        "outputId": "0a24fcd3-b893-4520-e804-cfc2a09958fb"
      },
      "outputs": [
        {
          "output_type": "stream",
          "name": "stdout",
          "text": [
            "\u001b[2K   \u001b[90m━━━━━━━━━━━━━━━━━━━━━━━━━━━━━━━━━━━━━━━━\u001b[0m \u001b[32m41.8/41.8 kB\u001b[0m \u001b[31m1.1 MB/s\u001b[0m eta \u001b[36m0:00:00\u001b[0m\n",
            "\u001b[2K   \u001b[90m━━━━━━━━━━━━━━━━━━━━━━━━━━━━━━━━━━━━━━━━\u001b[0m \u001b[32m56.7/56.7 MB\u001b[0m \u001b[31m13.5 MB/s\u001b[0m eta \u001b[36m0:00:00\u001b[0m\n",
            "\u001b[2K   \u001b[90m━━━━━━━━━━━━━━━━━━━━━━━━━━━━━━━━━━━━━━━━\u001b[0m \u001b[32m319.8/319.8 kB\u001b[0m \u001b[31m15.6 MB/s\u001b[0m eta \u001b[36m0:00:00\u001b[0m\n",
            "\u001b[2K   \u001b[90m━━━━━━━━━━━━━━━━━━━━━━━━━━━━━━━━━━━━━━━━\u001b[0m \u001b[32m94.7/94.7 kB\u001b[0m \u001b[31m5.6 MB/s\u001b[0m eta \u001b[36m0:00:00\u001b[0m\n",
            "\u001b[2K   \u001b[90m━━━━━━━━━━━━━━━━━━━━━━━━━━━━━━━━━━━━━━━━\u001b[0m \u001b[32m447.5/447.5 kB\u001b[0m \u001b[31m21.4 MB/s\u001b[0m eta \u001b[36m0:00:00\u001b[0m\n",
            "\u001b[2K   \u001b[90m━━━━━━━━━━━━━━━━━━━━━━━━━━━━━━━━━━━━━━━━\u001b[0m \u001b[32m408.7/408.7 kB\u001b[0m \u001b[31m18.9 MB/s\u001b[0m eta \u001b[36m0:00:00\u001b[0m\n",
            "\u001b[2K   \u001b[90m━━━━━━━━━━━━━━━━━━━━━━━━━━━━━━━━━━━━━━━━\u001b[0m \u001b[32m11.0/11.0 MB\u001b[0m \u001b[31m70.4 MB/s\u001b[0m eta \u001b[36m0:00:00\u001b[0m\n",
            "\u001b[2K   \u001b[90m━━━━━━━━━━━━━━━━━━━━━━━━━━━━━━━━━━━━━━━━\u001b[0m \u001b[32m73.3/73.3 kB\u001b[0m \u001b[31m4.7 MB/s\u001b[0m eta \u001b[36m0:00:00\u001b[0m\n",
            "\u001b[2K   \u001b[90m━━━━━━━━━━━━━━━━━━━━━━━━━━━━━━━━━━━━━━━━\u001b[0m \u001b[32m63.7/63.7 kB\u001b[0m \u001b[31m3.6 MB/s\u001b[0m eta \u001b[36m0:00:00\u001b[0m\n",
            "\u001b[2K   \u001b[90m━━━━━━━━━━━━━━━━━━━━━━━━━━━━━━━━━━━━━━━━\u001b[0m \u001b[32m130.2/130.2 kB\u001b[0m \u001b[31m9.4 MB/s\u001b[0m eta \u001b[36m0:00:00\u001b[0m\n",
            "\u001b[?25h"
          ]
        }
      ],
      "source": [
        "!pip install -qU langchain-google-genai gradio"
      ]
    },
    {
      "cell_type": "code",
      "source": [
        "import os\n",
        "from google.colab import userdata\n",
        "from langchain_google_genai import ChatGoogleGenerativeAI"
      ],
      "metadata": {
        "id": "LokvmV6HSqlA"
      },
      "execution_count": 2,
      "outputs": []
    },
    {
      "cell_type": "code",
      "source": [
        "os.environ[\"GOOGLE_API_KEY\"] = userdata.get(\"GOOGLE_API_KEY\")"
      ],
      "metadata": {
        "id": "hrlV2CqdS67w"
      },
      "execution_count": 3,
      "outputs": []
    },
    {
      "cell_type": "code",
      "source": [
        "llm = ChatGoogleGenerativeAI(\n",
        "    model=\"gemini-1.5-pro\",\n",
        "    temperature=0,\n",
        "    max_tokens=None,\n",
        "    timeout=None,\n",
        "    max_retries=2\n",
        ")"
      ],
      "metadata": {
        "id": "ytp7hqpuTGQP"
      },
      "execution_count": null,
      "outputs": []
    },
    {
      "cell_type": "code",
      "source": [
        "messages = [\n",
        "    (\n",
        "        \"system\",\n",
        "        \"You are a helpful assistant answers user's question\",\n",
        "    ),\n",
        "    (\"human\", \"What is AI?\"),\n",
        "]\n",
        "ai_msg = llm.invoke(messages)\n",
        "ai_msg"
      ],
      "metadata": {
        "colab": {
          "base_uri": "https://localhost:8080/"
        },
        "id": "7Kuixhx_TeSr",
        "outputId": "b3d7a382-3f70-4de4-8515-3fd823387ca2"
      },
      "execution_count": null,
      "outputs": [
        {
          "output_type": "execute_result",
          "data": {
            "text/plain": [
              "AIMessage(content=\"AI, or Artificial Intelligence, is a broad field aiming to create machines capable of performing tasks that typically require human intelligence.  It's a multidisciplinary field, drawing from computer science, cognitive science, linguistics, psychology, neuroscience, and mathematics.\\n\\nHere's a breakdown of key aspects of AI:\\n\\n**Key Concepts:**\\n\\n* **Intelligence:**  AI seeks to replicate or simulate human intellectual abilities, such as learning, reasoning, problem-solving, perception, and language understanding.\\n* **Learning:**  A core aspect of AI is the ability of machines to learn from data without explicit programming.  This includes:\\n    * **Machine Learning (ML):** Algorithms that allow computers to learn patterns from data and make predictions or decisions.\\n    * **Deep Learning (DL):** A subset of ML that uses artificial neural networks with multiple layers to analyze complex data.\\n* **Reasoning and Problem-Solving:** AI systems can be designed to deduce solutions, make decisions, and plan actions based on available information.\\n* **Perception:** AI enables machines to perceive the world through sensors, like cameras and microphones, and interpret the data, like recognizing objects or understanding speech.\\n* **Natural Language Processing (NLP):**  This branch of AI focuses on enabling computers to understand, interpret, and generate human language.\\n\\n**Types of AI:**\\n\\nAI can be categorized in various ways, including:\\n\\n* **Narrow or Weak AI:**  Designed for a specific task, like playing chess or recommending products.  Most current AI systems fall into this category.\\n* **General or Strong AI:** Hypothetical AI with human-level intelligence and the ability to perform any intellectual task a human can.  This type of AI doesn't currently exist.\\n* **Super AI:**  Hypothetical AI that surpasses human intelligence in all aspects.  This is purely theoretical.\\n\\n**Applications of AI:**\\n\\nAI is rapidly transforming various industries, including:\\n\\n* **Healthcare:** Diagnosis, drug discovery, personalized medicine.\\n* **Finance:** Fraud detection, algorithmic trading, risk assessment.\\n* **Transportation:** Self-driving cars, traffic optimization.\\n* **Retail:** Personalized recommendations, inventory management.\\n* **Entertainment:** Video games, movie recommendations.\\n* **Customer Service:** Chatbots, virtual assistants.\\n\\n**Ethical Considerations:**\\n\\nThe development and deployment of AI raise important ethical considerations, such as:\\n\\n* **Bias:** AI systems can inherit and amplify biases present in the data they are trained on.\\n* **Job displacement:** Automation powered by AI could lead to job losses in certain sectors.\\n* **Privacy:**  AI systems often rely on vast amounts of data, raising concerns about privacy and data security.\\n* **Accountability:** Determining responsibility when AI systems make mistakes.\\n\\n\\nThis is a general overview of AI.  If you have more specific questions, feel free to ask!\\n\", additional_kwargs={}, response_metadata={'prompt_feedback': {'block_reason': 0, 'safety_ratings': []}, 'finish_reason': 'STOP', 'safety_ratings': []}, id='run-40c74a1d-5af5-4cbb-bc4d-2c338dcb7ac3-0', usage_metadata={'input_tokens': 15, 'output_tokens': 594, 'total_tokens': 609, 'input_token_details': {'cache_read': 0}})"
            ]
          },
          "metadata": {},
          "execution_count": 5
        }
      ]
    },
    {
      "cell_type": "code",
      "source": [
        "print(ai_msg.content)"
      ],
      "metadata": {
        "colab": {
          "base_uri": "https://localhost:8080/"
        },
        "id": "Hoh6u6AvTpEU",
        "outputId": "afa3c2d0-cd35-4755-87af-7b17d6c3a980"
      },
      "execution_count": null,
      "outputs": [
        {
          "output_type": "stream",
          "name": "stdout",
          "text": [
            "AI, or Artificial Intelligence, is a broad field aiming to create machines capable of performing tasks that typically require human intelligence.  It's a multidisciplinary field, drawing from computer science, cognitive science, linguistics, psychology, neuroscience, and mathematics.\n",
            "\n",
            "Here's a breakdown of key aspects of AI:\n",
            "\n",
            "**Key Concepts:**\n",
            "\n",
            "* **Intelligence:**  AI seeks to replicate or simulate human intellectual abilities, such as learning, reasoning, problem-solving, perception, and language understanding.\n",
            "* **Learning:**  A core aspect of AI is the ability of machines to learn from data without explicit programming.  This includes:\n",
            "    * **Machine Learning (ML):** Algorithms that allow computers to learn patterns from data and make predictions or decisions.\n",
            "    * **Deep Learning (DL):** A subset of ML that uses artificial neural networks with multiple layers to analyze complex data.\n",
            "* **Reasoning and Problem-Solving:** AI systems can be designed to deduce solutions, make decisions, and plan actions based on available information.\n",
            "* **Perception:** AI enables machines to perceive the world through sensors, like cameras and microphones, and interpret the data, like recognizing objects or understanding speech.\n",
            "* **Natural Language Processing (NLP):**  This branch of AI focuses on enabling computers to understand, interpret, and generate human language.\n",
            "\n",
            "**Types of AI:**\n",
            "\n",
            "AI can be categorized in various ways, including:\n",
            "\n",
            "* **Narrow or Weak AI:**  Designed for a specific task, like playing chess or recommending products.  Most current AI systems fall into this category.\n",
            "* **General or Strong AI:** Hypothetical AI with human-level intelligence and the ability to perform any intellectual task a human can.  This type of AI doesn't currently exist.\n",
            "* **Super AI:**  Hypothetical AI that surpasses human intelligence in all aspects.  This is purely theoretical.\n",
            "\n",
            "**Applications of AI:**\n",
            "\n",
            "AI is rapidly transforming various industries, including:\n",
            "\n",
            "* **Healthcare:** Diagnosis, drug discovery, personalized medicine.\n",
            "* **Finance:** Fraud detection, algorithmic trading, risk assessment.\n",
            "* **Transportation:** Self-driving cars, traffic optimization.\n",
            "* **Retail:** Personalized recommendations, inventory management.\n",
            "* **Entertainment:** Video games, movie recommendations.\n",
            "* **Customer Service:** Chatbots, virtual assistants.\n",
            "\n",
            "**Ethical Considerations:**\n",
            "\n",
            "The development and deployment of AI raise important ethical considerations, such as:\n",
            "\n",
            "* **Bias:** AI systems can inherit and amplify biases present in the data they are trained on.\n",
            "* **Job displacement:** Automation powered by AI could lead to job losses in certain sectors.\n",
            "* **Privacy:**  AI systems often rely on vast amounts of data, raising concerns about privacy and data security.\n",
            "* **Accountability:** Determining responsibility when AI systems make mistakes.\n",
            "\n",
            "\n",
            "This is a general overview of AI.  If you have more specific questions, feel free to ask!\n",
            "\n"
          ]
        }
      ]
    },
    {
      "cell_type": "markdown",
      "source": [
        "## Chatbot"
      ],
      "metadata": {
        "id": "Pj_y-ukjUgmP"
      }
    },
    {
      "cell_type": "markdown",
      "source": [
        "## Embedding Model"
      ],
      "metadata": {
        "id": "B21rxsmgVO8Y"
      }
    },
    {
      "cell_type": "code",
      "source": [
        "from langchain_community.embeddings import HuggingFaceEmbeddings\n",
        "from langchain_community.vectorstores import FAISS\n",
        "from langchain_community.document_loaders import PyPDFLoader, DirectoryLoader\n",
        "from langchain.text_splitter import RecursiveCharacterTextSplitter"
      ],
      "metadata": {
        "id": "RGs3kJEWVSTi"
      },
      "execution_count": null,
      "outputs": []
    },
    {
      "cell_type": "code",
      "source": [
        "DATA_PATH = '/content'\n",
        "DB_FAISS_PATH = 'vectorstore/db_faiss'"
      ],
      "metadata": {
        "id": "-smwoyEtVdPp"
      },
      "execution_count": null,
      "outputs": []
    },
    {
      "cell_type": "code",
      "source": [
        "loader = DirectoryLoader(DATA_PATH, glob='*.pdf', loader_cls=PyPDFLoader)"
      ],
      "metadata": {
        "id": "JnxyUODoV5da"
      },
      "execution_count": null,
      "outputs": []
    },
    {
      "cell_type": "code",
      "source": [
        "documents = loader.load()"
      ],
      "metadata": {
        "id": "6UuBbP5NWDDT"
      },
      "execution_count": null,
      "outputs": []
    },
    {
      "cell_type": "code",
      "source": [
        "text_splitter = RecursiveCharacterTextSplitter(chunk_size=500,\n",
        "                                               chunk_overlap=50)\n",
        "texts = text_splitter.split_documents(documents)"
      ],
      "metadata": {
        "id": "y9XAK9ljWGBZ"
      },
      "execution_count": null,
      "outputs": []
    },
    {
      "cell_type": "code",
      "source": [
        "texts"
      ],
      "metadata": {
        "colab": {
          "base_uri": "https://localhost:8080/"
        },
        "id": "aWUEB7oeWRh4",
        "outputId": "7ca100f0-0c87-4dc9-e984-2a1fcee63f1c"
      },
      "execution_count": null,
      "outputs": [
        {
          "output_type": "execute_result",
          "data": {
            "text/plain": [
              "[Document(metadata={'source': '/content/case-report-example-and-abstract.pdf', 'page': 0}, page_content='CASE STUDY EXAMPLE \\n \\nINTRODUCTION \\nCraniosacral Therapy is a gentle, hands-on form of manual therapy which addresses dysfunction within \\nthe craniosacral system, which follows the movement and flow of cerebrospinal fluid within the \\nventricles of the brain, the dural tube, and the central nervous system surrounding the spinal and cranial \\nnerves. The therapist uses specific techniques to help restore physiological balance of the nervous'),\n",
              " Document(metadata={'source': '/content/case-report-example-and-abstract.pdf', 'page': 0}, page_content='system, the brain and cranial bones.   Homeostasis is restored to the patient through restoring optimal \\nfunctioning of these areas.  When restriction or dysfunction in these areas has been corrected or \\nrelieved, a patient may also experience an improvement of their physical, mental, emotional and \\nspiritual well –being.  Dr. John E. Upledger, founder of Craniosacral Therapy, has written multiple'),\n",
              " Document(metadata={'source': '/content/case-report-example-and-abstract.pdf', 'page': 0}, page_content='accounts where this has occurred, e.g. Craniosacral Therapy II: Beyond the Dura (Upledger, 1987); \\nSomatoEmotional Release and Beyond (Upledger, 1990); Craniosacral Therapy: Touchstone for Natural \\nHealing (Upledger, 2001); Your Inner Physician and You (Upledger, 1997).   Within these texts Dr. \\nUpledger has described numerous case examples from his osteopathic practice about how Craniosacral \\nTherapy treats not only the physiological symptoms of disease but also the emotional components that'),\n",
              " Document(metadata={'source': '/content/case-report-example-and-abstract.pdf', 'page': 0}, page_content='contribute to and aggravate an injury, symptom or illness.  Thus he and other practitioners of this \\nmethod recognize there is a strong correlation between the physical and emotional aspects of dis-ease. \\nThey stipulate that therapists need to consider the emotional implications of recurring chronic pain, \\ninjury or illness and explore what may underline any resistance to the healing process.'),\n",
              " Document(metadata={'source': '/content/case-report-example-and-abstract.pdf', 'page': 0}, page_content='Scientific research studies of this genre continue to be challenging.  Emotional energy is unique to each \\nindividual situation and experience, therefore it is difficult to measure and quantify.  It is stipulated here \\nthat emotion may not always play a direct part in the healing of a physical injury, as many physical \\ninjuries are able to resolve with a prescribed form of treatment on a physical level. However this case'),\n",
              " Document(metadata={'source': '/content/case-report-example-and-abstract.pdf', 'page': 0}, page_content='study seeks to describe and explain what occurred with a patient who had a “simple” orthopedic injury \\nthat did not recover after following the prescribed physical therapy technique.  An unexpected review of \\nthe historical memory of the occurrence that was underlying the injury provided an opportunity for the \\npatient to release the emotional content of a painful personal loss experience. This ‘meaning making’'),\n",
              " Document(metadata={'source': '/content/case-report-example-and-abstract.pdf', 'page': 0}, page_content='provided a relevant backdrop to the history and content of their injury. In the patient’s mind once they \\nwere able to emote and make ‘meaning ‘of their experience they were able to identify the root cause of \\ntheir chronic injury and subsequently made remarkable improvements. \\n \\nHISTORY \\nThis case involves a 38 year old adult female who presented, to this author and therapist, with a chronic \\n2nd degree left ankle sprain.  It had occurred in November 2002 when she stepped awkwardly off of a'),\n",
              " Document(metadata={'source': '/content/case-report-example-and-abstract.pdf', 'page': 0}, page_content='street curb and twisted it 11 months prior to this therapeutic experience.  This patient is a successful'),\n",
              " Document(metadata={'source': '/content/case-report-example-and-abstract.pdf', 'page': 1}, page_content='trial attorney who enjoys running as a stress-relieving, leisure activity.  She is an intelligent, self-\\nproclaimed “left brain, linear thinker” who deals in facts and statistics.  She was a recently divorced \\nmother of two at the time of her initial visit.  Although her job does confine her to a desk at times, it also \\nrequires a lot of activity as well, which includes standing for long periods of time.  She presented in'),\n",
              " Document(metadata={'source': '/content/case-report-example-and-abstract.pdf', 'page': 1}, page_content='excellent health, with no other significant medical history, nor previous ankle injury. Except for the \\nCaesarean births of both of her children, she had never undergone any previous surgical procedures.  \\nThe patient reported being happy and content in her life, and stated that she enjoys an active lifestyle \\nthat involves sports, cooking and travel. \\nUpon initial onset of the injury, the patient stated that pain and swelling of her left ankle had occurred'),\n",
              " Document(metadata={'source': '/content/case-report-example-and-abstract.pdf', 'page': 1}, page_content='immediately and that she was initially unable to bear weight on her left foot.  She sought medical \\nattention at a local hospital emergency room.  X-rays were negative and physical assessment \\ndetermined soft tissue damage to the lateral aspect of her ankle.  She was initially treated with ice, an \\nace wrap, crutches and mild pain medications (Tylenol with codeine).  She was instructed to continue ice'),\n",
              " Document(metadata={'source': '/content/case-report-example-and-abstract.pdf', 'page': 1}, page_content='applications, elevate when possible and two weeks later was referred to physical therapy.  Traditionally-\\nbased physical therapy was conducted for 2 months, three times per week consisted of ice, whirlpool \\nbath, ultrasound treatments, exercise and ambulation skills.  The patient progressed, was eventually \\nable to ambulate without an assistive device and regained some of her ankle range of motion, but'),\n",
              " Document(metadata={'source': '/content/case-report-example-and-abstract.pdf', 'page': 1}, page_content='continued to complain of ankle tightness and intermittent pain when engaging in activities such as \\nrunning, stair climbing and prolonged periods of standing.  These activities could also produce minor \\nankle swelling on occasion if she did any of them to an extreme or repetitively.  She would ice her ankle \\nwhen this occurred although she had stopped the prescribed medication after the initial two week \\nperiod. \\n \\nTESTS AND MEASUREMENTS'),\n",
              " Document(metadata={'source': '/content/case-report-example-and-abstract.pdf', 'page': 1}, page_content='period. \\n \\nTESTS AND MEASUREMENTS \\nAfter 9 months without any formal treatment, the patient was referred to this therapist.  She stated that \\nher ankle felt “85% healed” but was seeking a 100% recovery.  Upon initial evaluation, pain was elicited \\nmostly with manual pressure applied at the extreme ends of the available range of motion.  On a 0-10 \\nscale, the patient stated it was a 5.  She also stated that her ankle pain could increase to a 7/8 with the'),\n",
              " Document(metadata={'source': '/content/case-report-example-and-abstract.pdf', 'page': 1}, page_content='aforementioned activities.  There was minor tenderness upon palpation of the left lateral malleolus, and \\nno visible edema was present. \\nGoniometric measurements to determine available range of motion were as follows: \\n Dorsiflexion- Active:  10 degrees   Passive: 20 degrees \\n Plantarflexion – Active:  25 degrees   Passive:  28 degrees \\n Inversion – Active:  10 degrees   Passive:  20 degrees (with pain level of 5) \\n Eversion – Active:  10 degrees   Passive:  10 degrees (with pain level of 5)'),\n",
              " Document(metadata={'source': '/content/case-report-example-and-abstract.pdf', 'page': 2}, page_content='A standard Manual Muscle Testing procedure was performed to assess the patient’s ankle strength.  The \\npatient was placed lying on a table; applicable positions were assumed to ensure that each motion was \\nagainst gravity when resistance was applied.  The results were as follows: \\n \\n Dorsiflexion – 4 (good) \\n Plantarflexion – 4 (good) \\n Inversion – 3 (fair) \\n Eversion – 2+ (poor plus) – with pain elicited at the end of the range, level 5 on the 0-10 scale'),\n",
              " Document(metadata={'source': '/content/case-report-example-and-abstract.pdf', 'page': 2}, page_content='Evaluation of the patient’s gait showed no obvious deviations, although she subjectively stated that her \\nankle felt “tight and stiff”.  The patient was successfully able to stand solely and balance well on her left \\nfoot.  She was able to perform “darting” motions and quickly change directions when instructed to, \\nalthough reported a pain level of 5 on a scale of 0-10 when doing so.  She could also perform such'),\n",
              " Document(metadata={'source': '/content/case-report-example-and-abstract.pdf', 'page': 2}, page_content='activities as hopping and skipping, but with discomfort after repetition over one minute, citing a pain \\nlevel of 3 on a scale of 0-10. \\n \\nTREATMENT \\n \\nWith the patient exhibiting good ankle strength and high-functioning ADL’s, the treatment plan \\ncommenced with a focus on increasing the limited range of motion.  Suspecting possible joint capsule \\nswelling or inflammation, ice treatments were also applied.  Manual strength exercises, based on PNF'),\n",
              " Document(metadata={'source': '/content/case-report-example-and-abstract.pdf', 'page': 2}, page_content='(proprioceptive-neuromuscular facilitation) patterning techniques, were also employed to upkeep the \\npatient’s lower leg muscular strength, as well as supporting any gains in range of motion.  The basis for \\ntreatment rationale was the standard, documented physical therapy protocol for such an injury and the \\nsymptoms presented.  The goal was to increase the patient’s range of motion to normal and see a \\nresultant decrease in pain level.'),\n",
              " Document(metadata={'source': '/content/case-report-example-and-abstract.pdf', 'page': 2}, page_content='resultant decrease in pain level.   \\n \\nAfter 3 weeks, 3 times per week, for 45 minutes treatment sessions of the above treatment plan only \\nminimal changes were observed.  Trace degrees of range of motion were noted improved, in \\ndorsiflexion and plantarflexion only.  The patient subjectively reported no change at all in her pain \\nlevels. \\n \\nSeeking other possible treatment options, this therapist, who is trained in Craniosacral Therapy,'),\n",
              " Document(metadata={'source': '/content/case-report-example-and-abstract.pdf', 'page': 2}, page_content='commenced with the “Direction of Energy” or “V-spread” technique (Sutherland, 1930; Upledger 1986).  \\nThe left ankle of the patient was held passively between the therapist’s hands. The therapist directed \\n‘energy’ from one hand through to the other hand.  This technique was employed for 30 minutes during \\none treatment session.  Tissue release signs demonstrated during this technique were heat and a'),\n",
              " Document(metadata={'source': '/content/case-report-example-and-abstract.pdf', 'page': 2}, page_content='“Therapeutic Pulse” (pulsing sensations, faster than a normal pulse which may describe a positive tissue \\nresponse to circulation). These were noted in the ankle bone area during the treatment technique \\ndescribed.  A brief reevaluation of the patient’s ankle at the end of the session showed no significant \\nchange in the original objective findings, however the patient subjectively reported that the ankle “felt a \\nlittle looser”.'),\n",
              " Document(metadata={'source': '/content/case-report-example-and-abstract.pdf', 'page': 3}, page_content='The patient returned for her next session two days later, reporting that after the last treatment session \\nshe felt she had finally started to see some improvement, but that her ankle was still not 100%.  She \\nstated that her ankle did not feel as stiff as it had previously.   Objectively, there were still no \\nmeasureable increases in range of motion.   \\n \\nWith the patient lying supine, treatment commenced once again with the ‘Direction of Energy’'),\n",
              " Document(metadata={'source': '/content/case-report-example-and-abstract.pdf', 'page': 3}, page_content='technique in the exact manner as the previous session.  Several minutes into its application, the \\npatient’s ankle began to gently move as tissue spontaneously began “unwinding”.  The ‘Regional Tissue \\nRelease’ technique was used to follow and support this process.  The patient’s mood was upbeat, and a \\nlight conversation between patient and therapist ensued.  Several more minutes into the treatment, the'),\n",
              " Document(metadata={'source': '/content/case-report-example-and-abstract.pdf', 'page': 3}, page_content='patient grew quiet.  It was noted that this was concurrent with a stopping of her Craniosacral Rhythm \\n(CSR), otherwise known as a ‘Significance Detector’.  This indicated that the patient’s body was \\nexperiencing a significant therapeutic occurrence.  Within the next 2-3 minutes, the previously upbeat \\npatient began to sob quietly.   The therapist held a respectful presence for the patient’s therapeutic \\nprocess while continuing with the ‘Direction of Energy’ technique.'),\n",
              " Document(metadata={'source': '/content/case-report-example-and-abstract.pdf', 'page': 3}, page_content='A few minutes later, the patient spoke and started to tell the story of her ankle injury in more depth \\nthan she had previously.  When the injury was sustained, the patient had stepped off of the curb that \\nwas directly in front of the courthouse where she had just finalized her divorce from her now ex-\\nhusband.  She stated that she had never cried or emoted in any way regarding this life-changing event.'),\n",
              " Document(metadata={'source': '/content/case-report-example-and-abstract.pdf', 'page': 3}, page_content='She was surprised to find herself so moved to release these emotions at this time.  The patient’s \\nemotional release and story recantation lasted approximately 15 minutes in total.  Her Craniosacral \\nRhythm restarted after sharing this story.  ‘Regional Tissue Release ’of her ankle resumed for \\napproximately 5 more minutes before the session was completed. \\n \\nThe patient returned after 3 days time, reporting a marked improvement in her ankle symptoms.  She'),\n",
              " Document(metadata={'source': '/content/case-report-example-and-abstract.pdf', 'page': 3}, page_content='stated that for the first time since her injury, she had been completely pain free all weekend.  The usual \\ntight stiffness she experienced was also gone.  She stated that she had not done anything out of the \\nordinary in the previous 3 days, except that because her ankle felt so good, she had gone for a long run; \\nsomething that previously would have caused her more pain and probably swelling, neither of which   \\noccurred.'),\n",
              " Document(metadata={'source': '/content/case-report-example-and-abstract.pdf', 'page': 3}, page_content='occurred. \\n \\nThe patient also apologized for crying and stated that she could not believe that she had gotten so \\nemotional during the last session.  She said that she had left feeling ”lighter, happier and with a sense of \\nrelief”.  The therapist reassured her that this was not inappropriate to the session. When the discussion \\nturned to the concept of a physical and emotional injury connection, the patient stated that although'),\n",
              " Document(metadata={'source': '/content/case-report-example-and-abstract.pdf', 'page': 3}, page_content='her left brain had a hard time grasping it, she felt that that explained exactly what had happened with \\nher ankle healing.'),\n",
              " Document(metadata={'source': '/content/case-report-example-and-abstract.pdf', 'page': 4}, page_content='Subjectively, the patient reported a 0 on the pain scale of 0-10 in all of her ADL’s, including standing for \\nextended periods of time, stair climbing, running and quick response “darting” movements.  The patient \\nstated that her ankle felt “like new again”, and that “it felt 100%”. \\n \\nGoniometric measurements showed a significant improvement to normal ranges, for the first time in the \\npatient’s treatment term, in her ankle range of motion. \\n \\n \\nRESULTS'),\n",
              " Document(metadata={'source': '/content/case-report-example-and-abstract.pdf', 'page': 4}, page_content='RESULTS \\n \\nGoniometric re-measurements of available range of motion were as follows: \\n Dorsiflexion- Active:  15 degrees   Passive: 20 degrees \\n Plantarflexion – Active:  30 degrees   Passive:  35 degrees \\n Inversion – Active:  35 degrees   Passive:  35 degrees (with no pain) \\n Eversion – Active:  15 degrees   Passive:   15 degrees (with no pain) \\n \\n \\nFig. 1 Active Left ankle Range of Motion pre- and post-Craniosacral Therapy \\nKey : Pretreatment examination= blue'),\n",
              " Document(metadata={'source': '/content/case-report-example-and-abstract.pdf', 'page': 4}, page_content='Key : Pretreatment examination= blue \\n          Post treatment examination = red \\n \\nManual strength testing also improved significantly. \\n \\n Dorsiflexion – 5 (normal) \\n Plantarflexion – 5 (normal) \\n Inversion – 4 (good) \\n Eversion – 4 (good) – with no pain elicited \\n \\n0\\n5\\n10\\n15\\n20\\n25\\n30\\n35\\n40\\nDorsiflexion Plantarflexion Inversion Eversion'),\n",
              " Document(metadata={'source': '/content/case-report-example-and-abstract.pdf', 'page': 5}, page_content='Fig. 2 Standard Manual Muscle Testing pre- (blue) and post-craniosacral therapy (red) \\n \\nSubjectively, the patient reported a 0 on the pain scale of 0-10 in all of her ADL’s, including standing for \\nextended periods of time, stair climbing, running and quick response “darting” movements.  The patient \\nstated that her ankle felt “like new” again, and that it “felt 100%”. \\n \\nDISCUSSION \\n \\nPatients with ankle sprains are not traditionally treated with Craniosacral Therapy techniques.  Most'),\n",
              " Document(metadata={'source': '/content/case-report-example-and-abstract.pdf', 'page': 5}, page_content='commonly such orthopedic and sports injuries are treated with the standard physical therapy protocol \\nof exercise, ultrasound, cold and/or heat.  To further the discussion, it appears that full recovery was not \\nwholly, or at least readily, attained without the release of the emotional component that related to this \\npatient’s injury. \\n \\nWhereas the connection of emotion to a physical injury may be purely objective, the concept is clearly'),\n",
              " Document(metadata={'source': '/content/case-report-example-and-abstract.pdf', 'page': 5}, page_content='described with clinical examples in such references as SomatoEmotional Release and Beyond (Upledger, \\n1990).  This book, as well as other literature such as Alice Lindsay MS, LMT, CST-D’s SomatoEmotional \\nRelease: A Whole-Person Treatment (Dade Palms, 2006), retells countless treatment encounters where \\npatients have spontaneously (meaning with no conscious forethought by therapist or patient) emoted'),\n",
              " Document(metadata={'source': '/content/case-report-example-and-abstract.pdf', 'page': 5}, page_content='during treatment.  With varying degrees, both positive subjective and objective improvements have \\nresulted.  One may choose to call this coincidence, but the frequency of occurrence and significant \\nresults afterward may lead this to be a naïve conclusion.  The inherent difficulty in measuring and \\nquantifying such outcomes is wherein the problem lies.  How do we measure emotion and its \\nconnection to the healing of physical injury?  How do we differentiate physical and emotional energy,'),\n",
              " Document(metadata={'source': '/content/case-report-example-and-abstract.pdf', 'page': 5}, page_content='and the affect each may have on the healing process? \\n \\nTo date, anecdotal evidence is our most powerful voice in support of this concept.  It is not the premise \\nof this case study to infer that all injuries, ankle or otherwise, necessitate emotional release for full \\nrecovery.  The numbers of cases where orthopedic injuries have fully healed without emotional release \\nare countless.  On the contrary, it is stipulated, however, that the unsolicited, spontaneous release of \\n0\\n1\\n2\\n3\\n4\\n5\\n6'),\n",
              " Document(metadata={'source': '/content/case-report-example-and-abstract.pdf', 'page': 5}, page_content='0\\n1\\n2\\n3\\n4\\n5\\n6\\nDorsiflexion Plantarflexion Inversion Eversion'),\n",
              " Document(metadata={'source': '/content/case-report-example-and-abstract.pdf', 'page': 6}, page_content='subjective emotion while physical treatment is underway, may be necessary in some cases for full \\nhealing to take place.  The basis of the criteria, however, is to date determined, and seemingly \\nprompted by, the patient’s own non-conscious awareness in some way.  Further case documentation \\nand study of this little-explored territory of healing is highly recommended. \\n \\n \\nREFERENCES \\n \\nUpledger, John E., D.O., F.A.A.O. (1983). Craniosacral Therapy. Seattle, WA: Eastland Press.'),\n",
              " Document(metadata={'source': '/content/case-report-example-and-abstract.pdf', 'page': 6}, page_content='Upledger, John E., D.O., F.A.A.O. (1987). Craniosacral Therapy II  Beyond the Dura. Seattle, WA: Eastland           \\n Press. \\nUpledger, John E., D.O., O.M.M. (1990). SomatoEmotional Release and Beyond. Palm Beach Gardens, \\n FL: UI Publishing, Inc.  \\nPeeling, Becky, APR. (2003, Spring). Craniosacral Therapy: Following the Body’s Cues. Spa Life, 12(2), 93 \\nLindsay, Alice (Ali) D., MS, LMT, CST-D. (2006, Summer). SomatoEmotional Release: A Whole-Person'),\n",
              " Document(metadata={'source': '/content/case-report-example-and-abstract.pdf', 'page': 6}, page_content='Treatment. Dade Palms, 12. Retrieved from http://www.fsmta-dade.org \\nUpledger, John E., D.O., O.M.M. (1997). Your Inner Physician and You. Berkeley, CA: North Atlantic \\n Books \\nUpledger, John E., D.O., O.M.M. (2001). CranioSacral Therapy: Touchstone for Natural Healing. Berkeley, \\n CA: North Atlantic Books'),\n",
              " Document(metadata={'source': '/content/case-report-example-and-abstract.pdf', 'page': 7}, page_content='Improved chronic ankle injury results from V-spread \\ntissue release and spontaneous emotional release.   \\n \\nAuthor(s) name(s):  i.e. John Jones, MS, LMT and Sally Smith, PTA \\nAuthor(s) Affiliation(s):  i.e. University of New Mexico Medical Center \\n \\nAbstract \\n \\nA case study of a 38 year old female who sustained a 2nd degree ankle sprain  is treated with traditional \\nphysical therapy applications of ice, ultrasound and exercise for a duration of 2 months with some'),\n",
              " Document(metadata={'source': '/content/case-report-example-and-abstract.pdf', 'page': 7}, page_content='symptom improvements . Eleven months later, continued ankle pain and symptoms causes her to seek \\nfurther treatment to recover more ankle flexibility and stamina. After more traditional therapy \\ntechniques and no change, therapist offers Craniosacral technique of V-spread, Direction of Energy. This \\ntreatment subsequently elicits an emotional release of relevant history that explains more of the injury'),\n",
              " Document(metadata={'source': '/content/case-report-example-and-abstract.pdf', 'page': 7}, page_content='and its recurring symptoms. On release of emotions and ‘meaning making’ by patient, they experience a \\nfull recovery of  all ankle functions, strength and movements  This case study provides supportive  \\nevidence that some injuries may have both a physical and emotional component . In order for these \\ninjuries to heal, both the physical and emotional content of the injury need to be addressed and \\nreleased.'),\n",
              " Document(metadata={'source': '/content/case-report-example-and-abstract.pdf', 'page': 7}, page_content='released. \\n \\nKey words:  Craniosacral Therapy, chronic ankle sprain, emotional release, Direction of Energy, Regional \\nTissue Release')]"
            ]
          },
          "metadata": {},
          "execution_count": 12
        }
      ]
    },
    {
      "cell_type": "code",
      "source": [
        "texts[1]"
      ],
      "metadata": {
        "colab": {
          "base_uri": "https://localhost:8080/"
        },
        "id": "L-Kuti_dWSaa",
        "outputId": "5b229388-295a-406a-fecb-fef1ff39801f"
      },
      "execution_count": null,
      "outputs": [
        {
          "output_type": "execute_result",
          "data": {
            "text/plain": [
              "Document(metadata={'source': '/content/case-report-example-and-abstract.pdf', 'page': 0}, page_content='system, the brain and cranial bones.   Homeostasis is restored to the patient through restoring optimal \\nfunctioning of these areas.  When restriction or dysfunction in these areas has been corrected or \\nrelieved, a patient may also experience an improvement of their physical, mental, emotional and \\nspiritual well –being.  Dr. John E. Upledger, founder of Craniosacral Therapy, has written multiple')"
            ]
          },
          "metadata": {},
          "execution_count": 13
        }
      ]
    },
    {
      "cell_type": "code",
      "source": [
        "embeddings = HuggingFaceEmbeddings(model_name='sentence-transformers/all-MiniLM-L6-v2',\n",
        "                                   model_kwargs={'device': 'cpu'})"
      ],
      "metadata": {
        "colab": {
          "base_uri": "https://localhost:8080/"
        },
        "id": "n81G_WMHWsEE",
        "outputId": "ed02b19b-26d4-40c8-bdf2-8db721ee4afc"
      },
      "execution_count": null,
      "outputs": [
        {
          "output_type": "stream",
          "name": "stderr",
          "text": [
            "<ipython-input-14-6cde506a3d00>:1: LangChainDeprecationWarning: The class `HuggingFaceEmbeddings` was deprecated in LangChain 0.2.2 and will be removed in 1.0. An updated version of the class exists in the :class:`~langchain-huggingface package and should be used instead. To use it run `pip install -U :class:`~langchain-huggingface` and import as `from :class:`~langchain_huggingface import HuggingFaceEmbeddings``.\n",
            "  embeddings = HuggingFaceEmbeddings(model_name='sentence-transformers/all-MiniLM-L6-v2',\n",
            "/usr/local/lib/python3.10/dist-packages/transformers/tokenization_utils_base.py:1601: FutureWarning: `clean_up_tokenization_spaces` was not set. It will be set to `True` by default. This behavior will be depracted in transformers v4.45, and will be then set to `False` by default. For more details check this issue: https://github.com/huggingface/transformers/issues/31884\n",
            "  warnings.warn(\n"
          ]
        }
      ]
    },
    {
      "cell_type": "code",
      "source": [
        "db = FAISS.from_documents(texts, embeddings)\n",
        "db.save_local(DB_FAISS_PATH)"
      ],
      "metadata": {
        "id": "0WkO1GGpW080"
      },
      "execution_count": null,
      "outputs": []
    },
    {
      "cell_type": "markdown",
      "source": [
        "## Ask questions"
      ],
      "metadata": {
        "id": "YgOP_8puXEts"
      }
    },
    {
      "cell_type": "code",
      "source": [
        "from langchain.chains import RetrievalQA"
      ],
      "metadata": {
        "id": "gP85efEMXAZY"
      },
      "execution_count": null,
      "outputs": []
    },
    {
      "cell_type": "code",
      "source": [
        "custom_prompt_template = \"\"\"Use the following pieces of information to answer the user's question.\n",
        "If you don't know the answer, just say that you don't know, don't try to make up an answer.\n",
        "\n",
        "Context: {context}\n",
        "Question: {question}\n",
        "\n",
        "Only return the helpful answer below and nothing else.\n",
        "Helpful answer:\n",
        "\"\"\""
      ],
      "metadata": {
        "id": "96pw1AIpXPMw"
      },
      "execution_count": null,
      "outputs": []
    },
    {
      "cell_type": "code",
      "source": [
        "from langchain.prompts import PromptTemplate"
      ],
      "metadata": {
        "id": "T-LRnle4XYSA"
      },
      "execution_count": null,
      "outputs": []
    },
    {
      "cell_type": "code",
      "source": [
        "def set_custom_prompt():\n",
        "    \"\"\"\n",
        "    Prompt template for QA retrieval for each vectorstore\n",
        "    \"\"\"\n",
        "    prompt = PromptTemplate(template=custom_prompt_template,\n",
        "                            input_variables=['context', 'question'])\n",
        "    return prompt"
      ],
      "metadata": {
        "id": "TCHCVi4iXUos"
      },
      "execution_count": null,
      "outputs": []
    },
    {
      "cell_type": "code",
      "source": [
        "def retrieval_qa_chain(llm, prompt, db):\n",
        "    qa_chain = RetrievalQA.from_chain_type(llm=llm,\n",
        "                                       chain_type='stuff',\n",
        "                                       retriever=db.as_retriever(search_kwargs={'k': 2}),\n",
        "                                       return_source_documents=True,\n",
        "                                       chain_type_kwargs={'prompt': prompt}\n",
        "                                       )\n",
        "    return qa_chain"
      ],
      "metadata": {
        "id": "yJ2_2hfLXX1a"
      },
      "execution_count": null,
      "outputs": []
    },
    {
      "cell_type": "code",
      "source": [
        "def load_llm():\n",
        "  llm = ChatGoogleGenerativeAI(\n",
        "      model=\"gemini-1.5-pro\",\n",
        "      temperature=0,\n",
        "      max_tokens=None,\n",
        "      timeout=None,\n",
        "      max_retries=2\n",
        "  )\n",
        "  return llm"
      ],
      "metadata": {
        "id": "j65Ypn1hYFVq"
      },
      "execution_count": null,
      "outputs": []
    },
    {
      "cell_type": "code",
      "source": [
        "def qa_bot():\n",
        "    embeddings = HuggingFaceEmbeddings(model_name=\"sentence-transformers/all-MiniLM-L6-v2\",\n",
        "                                       model_kwargs={'device': 'cpu'})\n",
        "    db = FAISS.load_local(DB_FAISS_PATH, embeddings, allow_dangerous_deserialization=True)\n",
        "    llm = load_llm()\n",
        "    qa_prompt = set_custom_prompt()\n",
        "    qa = retrieval_qa_chain(llm, qa_prompt, db)\n",
        "    return qa"
      ],
      "metadata": {
        "id": "mvYrY-RKXf9F"
      },
      "execution_count": null,
      "outputs": []
    },
    {
      "cell_type": "code",
      "source": [
        "def final_result(query):\n",
        "    qa_result = qa_bot()\n",
        "    response = qa_result({'query': query})\n",
        "    return response"
      ],
      "metadata": {
        "id": "VYOrVyexXuQU"
      },
      "execution_count": null,
      "outputs": []
    },
    {
      "cell_type": "code",
      "source": [
        "query = \"What is Craniosacral Therapy?\""
      ],
      "metadata": {
        "id": "WhxvjAE6X0-p"
      },
      "execution_count": null,
      "outputs": []
    },
    {
      "cell_type": "code",
      "source": [
        "result = final_result(query)"
      ],
      "metadata": {
        "colab": {
          "base_uri": "https://localhost:8080/"
        },
        "id": "mdp5EMN7X4yh",
        "outputId": "f7a9be14-713b-4771-f573-90f02f798526"
      },
      "execution_count": null,
      "outputs": [
        {
          "output_type": "stream",
          "name": "stderr",
          "text": [
            "/usr/local/lib/python3.10/dist-packages/transformers/tokenization_utils_base.py:1601: FutureWarning: `clean_up_tokenization_spaces` was not set. It will be set to `True` by default. This behavior will be depracted in transformers v4.45, and will be then set to `False` by default. For more details check this issue: https://github.com/huggingface/transformers/issues/31884\n",
            "  warnings.warn(\n",
            "<ipython-input-23-ce7650e5332a>:3: LangChainDeprecationWarning: The method `Chain.__call__` was deprecated in langchain 0.1.0 and will be removed in 1.0. Use :meth:`~invoke` instead.\n",
            "  response = qa_result({'query': query})\n"
          ]
        }
      ]
    },
    {
      "cell_type": "code",
      "source": [
        "result"
      ],
      "metadata": {
        "colab": {
          "base_uri": "https://localhost:8080/"
        },
        "id": "tTVXcjNSX72j",
        "outputId": "0dbd64ff-f0cb-46f8-d23e-d98d8c696cd7"
      },
      "execution_count": null,
      "outputs": [
        {
          "output_type": "execute_result",
          "data": {
            "text/plain": [
              "{'query': 'What is Craniosacral Therapy?',\n",
              " 'result': 'Craniosacral Therapy is a gentle, hands-on form of manual therapy which addresses dysfunction within the craniosacral system, which follows the movement and flow of cerebrospinal fluid within the ventricles of the brain, the dural tube, and the central nervous system surrounding the spinal and cranial nerves.  The therapist uses specific techniques to help restore physiological balance of the nervous system, the brain and cranial bones.\\n',\n",
              " 'source_documents': [Document(metadata={'source': '/content/case-report-example-and-abstract.pdf', 'page': 0}, page_content='CASE STUDY EXAMPLE \\n \\nINTRODUCTION \\nCraniosacral Therapy is a gentle, hands-on form of manual therapy which addresses dysfunction within \\nthe craniosacral system, which follows the movement and flow of cerebrospinal fluid within the \\nventricles of the brain, the dural tube, and the central nervous system surrounding the spinal and cranial \\nnerves. The therapist uses specific techniques to help restore physiological balance of the nervous'),\n",
              "  Document(metadata={'source': '/content/case-report-example-and-abstract.pdf', 'page': 0}, page_content='system, the brain and cranial bones.   Homeostasis is restored to the patient through restoring optimal \\nfunctioning of these areas.  When restriction or dysfunction in these areas has been corrected or \\nrelieved, a patient may also experience an improvement of their physical, mental, emotional and \\nspiritual well –being.  Dr. John E. Upledger, founder of Craniosacral Therapy, has written multiple')]}"
            ]
          },
          "metadata": {},
          "execution_count": 26
        }
      ]
    },
    {
      "cell_type": "code",
      "source": [
        "answer = result[\"result\"]"
      ],
      "metadata": {
        "id": "XvgThdiLYUOM"
      },
      "execution_count": null,
      "outputs": []
    },
    {
      "cell_type": "code",
      "source": [
        "answer"
      ],
      "metadata": {
        "colab": {
          "base_uri": "https://localhost:8080/",
          "height": 70
        },
        "id": "9pVjqLIyYbQr",
        "outputId": "66930107-7720-410c-e9a1-b252be9f2901"
      },
      "execution_count": null,
      "outputs": [
        {
          "output_type": "execute_result",
          "data": {
            "text/plain": [
              "'Craniosacral Therapy is a gentle, hands-on form of manual therapy which addresses dysfunction within the craniosacral system, which follows the movement and flow of cerebrospinal fluid within the ventricles of the brain, the dural tube, and the central nervous system surrounding the spinal and cranial nerves.  The therapist uses specific techniques to help restore physiological balance of the nervous system, the brain and cranial bones.\\n'"
            ],
            "application/vnd.google.colaboratory.intrinsic+json": {
              "type": "string"
            }
          },
          "metadata": {},
          "execution_count": 28
        }
      ]
    },
    {
      "cell_type": "code",
      "source": [
        "sources = result[\"source_documents\"]"
      ],
      "metadata": {
        "id": "AhCzz--6YcAo"
      },
      "execution_count": null,
      "outputs": []
    },
    {
      "cell_type": "code",
      "source": [
        "sources"
      ],
      "metadata": {
        "colab": {
          "base_uri": "https://localhost:8080/"
        },
        "id": "e8O976WrYfy1",
        "outputId": "1d69962d-d912-40bb-facc-a78922d8c437"
      },
      "execution_count": null,
      "outputs": [
        {
          "output_type": "execute_result",
          "data": {
            "text/plain": [
              "[Document(metadata={'source': '/content/case-report-example-and-abstract.pdf', 'page': 0}, page_content='CASE STUDY EXAMPLE \\n \\nINTRODUCTION \\nCraniosacral Therapy is a gentle, hands-on form of manual therapy which addresses dysfunction within \\nthe craniosacral system, which follows the movement and flow of cerebrospinal fluid within the \\nventricles of the brain, the dural tube, and the central nervous system surrounding the spinal and cranial \\nnerves. The therapist uses specific techniques to help restore physiological balance of the nervous'),\n",
              " Document(metadata={'source': '/content/case-report-example-and-abstract.pdf', 'page': 0}, page_content='system, the brain and cranial bones.   Homeostasis is restored to the patient through restoring optimal \\nfunctioning of these areas.  When restriction or dysfunction in these areas has been corrected or \\nrelieved, a patient may also experience an improvement of their physical, mental, emotional and \\nspiritual well –being.  Dr. John E. Upledger, founder of Craniosacral Therapy, has written multiple')]"
            ]
          },
          "metadata": {},
          "execution_count": 30
        }
      ]
    },
    {
      "cell_type": "code",
      "source": [
        "import gradio as gr\n",
        "\n",
        "# Make sure to define or import your qa_bot function\n",
        "# For example:\n",
        "# from your_module import qa_bot\n",
        "\n",
        "def final_result(query):\n",
        "    # Initialize the QA bot\n",
        "    qa_result = qa_bot()\n",
        "\n",
        "    # Get the response from the QA bot\n",
        "    response = qa_result({'query': query})\n",
        "\n",
        "    # Return the result part of the response\n",
        "    return response.get(\"result\", \"No answer found.\")\n",
        "\n",
        "# Define the Gradio interface with updated component syntax\n",
        "iface = gr.Interface(\n",
        "    fn=final_result,                     # Function to process the input\n",
        "    inputs=gr.Textbox(                  # Input component: Textbox for user questions\n",
        "        lines=2,\n",
        "        placeholder=\"Enter your question here...\"\n",
        "    ),\n",
        "    outputs=gr.Textbox(),                # Output component: Display the answer as text\n",
        "    title=\"AI Chatbot\",                  # Title of the app\n",
        "    description=\"LLM powered AI Chatbot\"  # Description of the app\n",
        ")\n",
        "\n",
        "# Launch the Gradio app\n",
        "if __name__ == \"__main__\":\n",
        "    iface.launch(share=True)"
      ],
      "metadata": {
        "colab": {
          "base_uri": "https://localhost:8080/",
          "height": 611
        },
        "id": "a53q6CSmZgUp",
        "outputId": "8d8814ed-85aa-49f7-948a-fa43b113e4db"
      },
      "execution_count": null,
      "outputs": [
        {
          "output_type": "stream",
          "name": "stdout",
          "text": [
            "Colab notebook detected. To show errors in colab notebook, set debug=True in launch()\n",
            "* Running on public URL: https://2a56afab45d711c899.gradio.live\n",
            "\n",
            "This share link expires in 72 hours. For free permanent hosting and GPU upgrades, run `gradio deploy` from the terminal in the working directory to deploy to Hugging Face Spaces (https://huggingface.co/spaces)\n"
          ]
        },
        {
          "output_type": "display_data",
          "data": {
            "text/plain": [
              "<IPython.core.display.HTML object>"
            ],
            "text/html": [
              "<div><iframe src=\"https://2a56afab45d711c899.gradio.live\" width=\"100%\" height=\"500\" allow=\"autoplay; camera; microphone; clipboard-read; clipboard-write;\" frameborder=\"0\" allowfullscreen></iframe></div>"
            ]
          },
          "metadata": {}
        }
      ]
    },
    {
      "cell_type": "code",
      "source": [],
      "metadata": {
        "id": "aud2OTN6aGim"
      },
      "execution_count": null,
      "outputs": []
    }
  ]
}